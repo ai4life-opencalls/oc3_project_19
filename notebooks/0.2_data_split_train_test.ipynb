{
 "cells": [
  {
   "cell_type": "markdown",
   "id": "1415df36",
   "metadata": {},
   "source": [
    "# Split the dataset into train and test sets\n",
    "Taking care to not split data from same origin into both\n"
   ]
  },
  {
   "cell_type": "markdown",
   "id": "d1ebf2ae",
   "metadata": {},
   "source": [
    "### Load dependencies"
   ]
  },
  {
   "cell_type": "code",
   "execution_count": 1,
   "id": "0e8fa45c",
   "metadata": {},
   "outputs": [],
   "source": [
    "import pandas as pd\n",
    "\n",
    "import os\n",
    "from skimage.io import imread\n",
    "\n",
    "\n",
    "def get_file_list(directory):\n",
    "    \"\"\"\n",
    "    Get a list of all CSV files in the specified directory.\n",
    "    \"\"\"\n",
    "    img_in_dir_list = [\n",
    "        img\n",
    "        for img in os.listdir(directory)\n",
    "        if img.endswith(\".tif\") and \"relabel\" not in img\n",
    "    ]\n",
    "    return img_in_dir_list\n",
    "\n",
    "\n",
    "def file_list_info_df(data_dir, img, data_split_csv, data_dict):\n",
    "    \"\"\"\n",
    "    Create a DataFrame with file information.\n",
    "    \"\"\"\n",
    "\n",
    "    for i, row in data_split_csv.iterrows():\n",
    "        lbl_id = row.iloc[0]\n",
    "        sample_id = row.iloc[1]\n",
    "\n",
    "        if lbl_id in img:\n",
    "            data_dict[\"img_name\"].append(img)\n",
    "            data_dict[\"label_id\"].append(lbl_id)\n",
    "            data_dict[\"sample_id\"].append(sample_id)\n",
    "\n",
    "    image = imread(os.path.join(data_dir, img))\n",
    "    data_dict[\"z_dim\"].append(image.shape[0])\n",
    "    data_dict[\"x_dim\"].append(image.shape[1])\n",
    "    data_dict[\"y_dim\"].append(image.shape[2])\n",
    "    data_dict[\"max_value\"].append(image.max())\n",
    "    data_dict[\"min_value\"].append(image.min())\n",
    "\n",
    "    return data_dict"
   ]
  },
  {
   "cell_type": "code",
   "execution_count": 2,
   "id": "2279ba8a",
   "metadata": {},
   "outputs": [
    {
     "name": "stderr",
     "output_type": "stream",
     "text": [
      "<>:3: SyntaxWarning: invalid escape sequence '\\A'\n",
      "<>:3: SyntaxWarning: invalid escape sequence '\\A'\n",
      "C:\\Users\\Charmander_\\AppData\\Local\\Temp\\ipykernel_75624\\4057238536.py:3: SyntaxWarning: invalid escape sequence '\\A'\n",
      "  directory = \"D:\\AI4LifeOpenCAll\\_Full_data\\masks_labels\"\n"
     ]
    },
    {
     "name": "stdout",
     "output_type": "stream",
     "text": [
      "   sample_id  FOV_count  empty_FOV_count  min_x_dim  min_y_dim  min_z_dim\n",
      "0    Pt. 101          9                6       2304       2304        119\n",
      "1    Pt. 108          2                0       2048       2048        119\n",
      "2    Pt. 116          2                0       2304       2304         73\n",
      "3    Pt. 149          1                0       2304       2304         73\n",
      "4     Pt. 20         11                0       2304       2304        119\n",
      "5     Pt. 27         17                5       2304       2304        119\n",
      "6    Pt. 329          1                0       2304       2304         73\n",
      "7    Pt. 343          4                0       2304       2304         80\n",
      "8    Pt. 367         22                0        396        399         31\n",
      "9     Pt. 73         36               21       2304       2304        119\n",
      "10    Pt. 91          3                0       2304       2304        119\n"
     ]
    }
   ],
   "source": [
    "data_split_csv_path = \"data_identifier.csv\"\n",
    "\n",
    "directory = \"D:\\AI4LifeOpenCAll\\_Full_data\\masks_labels\"\n",
    "\n",
    "data_split_csv = pd.read_csv(data_split_csv_path, header=0, sep=\";\")\n",
    "\n",
    "img_in_dir_list = get_file_list(directory)\n",
    "data_dict = {\n",
    "    \"img_name\": [],\n",
    "    \"label_id\": [],\n",
    "    \"sample_id\": [],\n",
    "    \"z_dim\": [],\n",
    "    \"x_dim\": [],\n",
    "    \"y_dim\": [],\n",
    "    \"max_value\": [],\n",
    "    \"min_value\": [],\n",
    "}\n",
    "\n",
    "for img in img_in_dir_list:\n",
    "    data_dict = file_list_info_df(directory, img, data_split_csv, data_dict)\n",
    "\n",
    "df = pd.DataFrame.from_dict(data_dict)\n",
    "df.to_csv(\n",
    "    os.path.join(os.path.dirname(directory), os.path.basename(directory) + \"_info.csv\"),\n",
    "    index=False,\n",
    ")\n",
    "\n",
    "# Group by \"sample_id\" and calculate summary statistics\n",
    "summary_df = (\n",
    "    df.groupby(\"sample_id\")\n",
    "    .agg(\n",
    "        {\n",
    "            \"img_name\": \"count\",  # Count the number of images\n",
    "            \"max_value\": [\n",
    "                lambda x: (x == 0).sum()\n",
    "            ],  # Sum of max values and count of 0s\n",
    "            \"x_dim\": \"min\",  # Minimum x dimension\n",
    "            \"y_dim\": \"min\",  # Minimum y dimension\n",
    "            \"z_dim\": \"min\",  # Minimum z dimension\n",
    "        }\n",
    "    )\n",
    "    .reset_index()\n",
    ")\n",
    "\n",
    "# Rename columns for clarity\n",
    "summary_df.columns = [\n",
    "    \"sample_id\",\n",
    "    \"FOV_count\",\n",
    "    \"empty_FOV_count\",\n",
    "    \"min_x_dim\",\n",
    "    \"min_y_dim\",\n",
    "    \"min_z_dim\",\n",
    "]\n",
    "\n",
    "print(summary_df)\n",
    "\n",
    "# Save the summary DataFrame to a CSV file\n",
    "summary_csv_path = os.path.join(\n",
    "    os.path.dirname(directory), os.path.basename(directory) + \"_summary.csv\"\n",
    ")\n",
    "summary_df.to_csv(summary_csv_path, index=False)"
   ]
  }
 ],
 "metadata": {
  "kernelspec": {
   "display_name": "staphintissue_env",
   "language": "python",
   "name": "python3"
  },
  "language_info": {
   "codemirror_mode": {
    "name": "ipython",
    "version": 3
   },
   "file_extension": ".py",
   "mimetype": "text/x-python",
   "name": "python",
   "nbconvert_exporter": "python",
   "pygments_lexer": "ipython3",
   "version": "3.12.10"
  }
 },
 "nbformat": 4,
 "nbformat_minor": 5
}
