{
 "cells": [
  {
   "cell_type": "markdown",
   "id": "1415df36",
   "metadata": {},
   "source": [
    "# 0. Split the dataset into train and test subsets\n",
    "Data from the same origin should be kept in the same subset to avoid data leakage.\n",
    "\n",
    "This notebook crosses the image names with the identifiers in the csv file to get the number of FOVs (Fields of View) for each sample. Also counting the number of empty FOVs.\n",
    "\n",
    "These counts can then be used to split the dataset into train and test subsets. Usually 80% for training and 20% for testing.\n"
   ]
  },
  {
   "cell_type": "markdown",
   "id": "d1ebf2ae",
   "metadata": {},
   "source": [
    "## 0.1. Load libraries and custom functions\n",
    "\n",
    "Load the `pandas`, `os`, and `skimage` libraries.\n"
   ]
  },
  {
   "cell_type": "code",
   "execution_count": 2,
   "id": "0e8fa45c",
   "metadata": {},
   "outputs": [],
   "source": [
    "import pandas as pd\n",
    "import os\n",
    "from skimage.io import imread\n",
    "\n",
    "\n",
    "def get_file_list(directory: str) -> list[str]:\n",
    "    \"\"\"\n",
    "    Get a list of all image files (.tif, .tiff) in the specified directory.\n",
    "\n",
    "    Parameters:\n",
    "    - directory: str, path to the directory containing image files.\n",
    "\n",
    "    Returns:\n",
    "    - list of image file names with .tif or .tiff extensions.\n",
    "    \"\"\"\n",
    "    img_in_dir_list = [\n",
    "        img for img in os.listdir(directory) if img.endswith((\".tif\", \".tiff\"))\n",
    "    ]\n",
    "    return img_in_dir_list\n",
    "\n",
    "\n",
    "def file_list_info_df(\n",
    "    data_dir: str, img: str, identifier_csv: pd.DataFrame, data_dict: dict\n",
    ") -> dict:\n",
    "    \"\"\"\n",
    "    Create a DataFrame with file information.\n",
    "\n",
    "    Parameters:\n",
    "    - data_dir: str, path to the directory containing image files.\n",
    "    - img: str, name of the image file.\n",
    "    - identifier_csv: pd.DataFrame, DataFrame containing label and sample IDs.\n",
    "    - data_dict: dict, dictionary to store file information.\n",
    "\n",
    "    Returns:\n",
    "    - data_dict: dict, updated dictionary with file information.\n",
    "    \"\"\"\n",
    "\n",
    "    # Iterate through the DataFrame rows to find matching labels and sample IDs\n",
    "    # and populate the data_dict with image name, label ID, sample ID.\n",
    "    for i, row in identifier_csv.iterrows():\n",
    "        lbl_id = row.iloc[0]\n",
    "        sample_id = row.iloc[1]\n",
    "\n",
    "        if lbl_id in img:\n",
    "            data_dict[\"img_name\"].append(img)\n",
    "            data_dict[\"label_id\"].append(lbl_id)\n",
    "            data_dict[\"sample_id\"].append(sample_id)\n",
    "\n",
    "            # Read the image file to get its dimensions and min/max values\n",
    "            # and append this information to the data_dict.\n",
    "            image = imread(os.path.join(data_dir, img))\n",
    "            data_dict[\"z_dim\"].append(image.shape[0])\n",
    "            data_dict[\"x_dim\"].append(image.shape[1])\n",
    "            data_dict[\"y_dim\"].append(image.shape[2])\n",
    "            data_dict[\"max_value\"].append(image.max())\n",
    "            data_dict[\"min_value\"].append(image.min())\n",
    "\n",
    "    return data_dict"
   ]
  },
  {
   "cell_type": "markdown",
   "id": "0baddb91",
   "metadata": {},
   "source": [
    "## 0.2. Code\n"
   ]
  },
  {
   "cell_type": "markdown",
   "id": "cc3262b0",
   "metadata": {},
   "source": [
    "### User input variables"
   ]
  },
  {
   "cell_type": "code",
   "execution_count": null,
   "id": "51e342dc",
   "metadata": {},
   "outputs": [],
   "source": [
    "identifier_csv_path = \"path/to/your/data_split.csv\"\n",
    "\n",
    "directory = \"path/to/your/directory\"  # Replace with your directory path"
   ]
  },
  {
   "cell_type": "markdown",
   "id": "c1c0793d",
   "metadata": {},
   "source": [
    "### Code to run"
   ]
  },
  {
   "cell_type": "code",
   "execution_count": null,
   "id": "2279ba8a",
   "metadata": {},
   "outputs": [
    {
     "name": "stderr",
     "output_type": "stream",
     "text": [
      "<>:3: SyntaxWarning: invalid escape sequence '\\A'\n",
      "<>:3: SyntaxWarning: invalid escape sequence '\\A'\n",
      "C:\\Users\\Charmander_\\AppData\\Local\\Temp\\ipykernel_75624\\4057238536.py:3: SyntaxWarning: invalid escape sequence '\\A'\n",
      "  directory = \"D:\\AI4LifeOpenCAll\\_Full_data\\masks_labels\"\n"
     ]
    },
    {
     "name": "stdout",
     "output_type": "stream",
     "text": [
      "   sample_id  FOV_count  empty_FOV_count  min_x_dim  min_y_dim  min_z_dim\n",
      "0    Pt. 101          9                6       2304       2304        119\n",
      "1    Pt. 108          2                0       2048       2048        119\n",
      "2    Pt. 116          2                0       2304       2304         73\n",
      "3    Pt. 149          1                0       2304       2304         73\n",
      "4     Pt. 20         11                0       2304       2304        119\n",
      "5     Pt. 27         17                5       2304       2304        119\n",
      "6    Pt. 329          1                0       2304       2304         73\n",
      "7    Pt. 343          4                0       2304       2304         80\n",
      "8    Pt. 367         22                0        396        399         31\n",
      "9     Pt. 73         36               21       2304       2304        119\n",
      "10    Pt. 91          3                0       2304       2304        119\n"
     ]
    }
   ],
   "source": [
    "# Load the identifier CSV file into a DataFrame\n",
    "identifier_csv = pd.read_csv(identifier_csv_path, header=0, sep=\";\")\n",
    "\n",
    "# Get the list of image files in the specified directory\n",
    "img_in_dir_list = get_file_list(directory)\n",
    "\n",
    "# Initialize a dictionary to store file information\n",
    "data_dict = {\n",
    "    \"img_name\": [],\n",
    "    \"label_id\": [],\n",
    "    \"sample_id\": [],\n",
    "    \"z_dim\": [],\n",
    "    \"x_dim\": [],\n",
    "    \"y_dim\": [],\n",
    "    \"max_value\": [],\n",
    "    \"min_value\": [],\n",
    "}\n",
    "\n",
    "# Iterate through the list of image files and populate the data_dict\n",
    "for img in img_in_dir_list:\n",
    "    data_dict = file_list_info_df(directory, img, identifier_csv, data_dict)\n",
    "\n",
    "# Convert the data_dict dictionary to a DataFrame\n",
    "df = pd.DataFrame.from_dict(data_dict)\n",
    "\n",
    "# Save the DataFrame to a CSV file\n",
    "df.to_csv(\n",
    "    os.path.join(os.path.dirname(directory), os.path.basename(directory) + \"_info.csv\"),\n",
    "    index=False,\n",
    ")\n",
    "\n",
    "# Group by \"sample_id\" and calculate summary statistics per sample\n",
    "# Count the number of images, sum of max values, and count of 0s in \"max_value\",\n",
    "# and get the minimum dimensions for each sample.\n",
    "# This will create a summary DataFrame with the number of FOVs and empty FOVs.\n",
    "summary_df = (\n",
    "    df.groupby(\"sample_id\")\n",
    "    .agg(\n",
    "        {\n",
    "            \"img_name\": \"count\",  # Count the number of images\n",
    "            \"max_value\": [\n",
    "                lambda x: (x == 0).sum()\n",
    "            ],  # Sum of max values and count of 0s\n",
    "            \"x_dim\": \"min\",  # Minimum x dimension\n",
    "            \"y_dim\": \"min\",  # Minimum y dimension\n",
    "            \"z_dim\": \"min\",  # Minimum z dimension\n",
    "        }\n",
    "    )\n",
    "    .reset_index()\n",
    ")\n",
    "\n",
    "# Rename columns for clarity\n",
    "summary_df.columns = [\n",
    "    \"sample_id\",\n",
    "    \"FOV_count\",\n",
    "    \"empty_FOV_count\",\n",
    "    \"min_x_dim\",\n",
    "    \"min_y_dim\",\n",
    "    \"min_z_dim\",\n",
    "]\n",
    "\n",
    "# Print the summary DataFrame\n",
    "print(\"Summary DataFrame:\")\n",
    "print(summary_df)\n",
    "\n",
    "# Save the summary DataFrame to a CSV file\n",
    "summary_csv_path = os.path.join(\n",
    "    os.path.dirname(directory), os.path.basename(directory) + \"_summary.csv\"\n",
    ")\n",
    "summary_df.to_csv(summary_csv_path, index=False)"
   ]
  }
 ],
 "metadata": {
  "kernelspec": {
   "display_name": "ds_region_props",
   "language": "python",
   "name": "python3"
  },
  "language_info": {
   "codemirror_mode": {
    "name": "ipython",
    "version": 3
   },
   "file_extension": ".py",
   "mimetype": "text/x-python",
   "name": "python",
   "nbconvert_exporter": "python",
   "pygments_lexer": "ipython3",
   "version": "3.12.2"
  }
 },
 "nbformat": 4,
 "nbformat_minor": 5
}
